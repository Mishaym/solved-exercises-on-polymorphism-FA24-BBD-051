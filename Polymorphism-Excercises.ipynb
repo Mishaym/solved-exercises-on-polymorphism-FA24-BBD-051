{
 "cells": [
  {
   "cell_type": "code",
   "execution_count": 1,
   "id": "e32287a1-0727-41a3-bcc3-3e2cd7262ab6",
   "metadata": {},
   "outputs": [],
   "source": [
    "# MISHAYM IQBAL\n",
    "# FA24-BBD-051"
   ]
  },
  {
   "cell_type": "code",
   "execution_count": 3,
   "id": "fe7023cb-0628-46dd-bd88-20a2a0159481",
   "metadata": {},
   "outputs": [
    {
     "name": "stdout",
     "output_type": "stream",
     "text": [
      "Shape: Triangle\n",
      "Color: Red\n",
      " Area: 20.0\n",
      "\n",
      "Shape: Rectangle\n",
      "Color: Black\n",
      " Area: 459\n",
      "\n",
      "Shape: Circle\n",
      "Color: Grey\n",
      " Area: 314.159\n",
      "\n"
     ]
    }
   ],
   "source": [
    "# QUESTION NO 9\n",
    "class Shape :\n",
    "    def __init__ (self, color, shape_type) :\n",
    "        self.color = color\n",
    "        self.shape_type = shape_type\n",
    "    def area (self) :\n",
    "        area = 0\n",
    "        return area\n",
    "    def describe_shape (self) :\n",
    "        print(f\"Shape: {self.shape_type.title()}\\nColor: {self.color.title()}\")\n",
    "\n",
    "class Circle(Shape) :\n",
    "    def __init__ (self, color, radius, shape_type) :\n",
    "        super().__init__(color, shape_type)\n",
    "        self.radius = radius\n",
    "    def area (self) :\n",
    "        return (3.14159 * (self.radius ** 2))\n",
    "\n",
    "class Rectangle(Shape) :\n",
    "    def __init__ (self, color, length, width, shape_type) :\n",
    "        super().__init__(color, shape_type)\n",
    "        self.length = length\n",
    "        self.width = width\n",
    "    def area (self) :\n",
    "        return (self.width * self.length)\n",
    "    \n",
    "class Triangle(Shape) :\n",
    "    def __init__ (self, color, height, base, shape_type) :\n",
    "        super().__init__(color, shape_type)\n",
    "        self.height = height\n",
    "        self.base = base\n",
    "    def area (self) :\n",
    "        return ((self.height * self.base) *  (1/2))\n",
    "    \n",
    "triangle1 = Triangle(\"RED\", 8, 5, \"Triangle\")\n",
    "rectangle1 = Rectangle(\"BLACK\", 17, 27, \"Rectangle\")\n",
    "circle1 = Circle(\"GREY\", 10, \"circle\")\n",
    "\n",
    "triangle1.describe_shape()\n",
    "print(f\" Area: {triangle1.area()}\\n\")\n",
    "rectangle1.describe_shape()\n",
    "print(f\" Area: {rectangle1.area()}\\n\")\n",
    "circle1.describe_shape()\n",
    "print(f\" Area: {circle1.area()}\\n\")"
   ]
  },
  {
   "cell_type": "code",
   "execution_count": null,
   "id": "41baecb1-7ab8-4cf9-b412-142a6ffba9c4",
   "metadata": {},
   "outputs": [],
   "source": [
    "# QUESTION NO 10\n"
   ]
  }
 ],
 "metadata": {
  "kernelspec": {
   "display_name": "Python 3 (ipykernel)",
   "language": "python",
   "name": "python3"
  },
  "language_info": {
   "codemirror_mode": {
    "name": "ipython",
    "version": 3
   },
   "file_extension": ".py",
   "mimetype": "text/x-python",
   "name": "python",
   "nbconvert_exporter": "python",
   "pygments_lexer": "ipython3",
   "version": "3.12.7"
  }
 },
 "nbformat": 4,
 "nbformat_minor": 5
}
